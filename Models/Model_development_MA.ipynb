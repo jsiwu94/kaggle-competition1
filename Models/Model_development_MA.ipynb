{
  "nbformat": 4,
  "nbformat_minor": 0,
  "metadata": {
    "kernelspec": {
      "display_name": "Python 3",
      "language": "python",
      "name": "python3"
    },
    "language_info": {
      "codemirror_mode": {
        "name": "ipython",
        "version": 3
      },
      "file_extension": ".py",
      "mimetype": "text/x-python",
      "name": "python",
      "nbconvert_exporter": "python",
      "pygments_lexer": "ipython3",
      "version": "3.7.3"
    },
    "colab": {
      "name": "Model development.ipynb",
      "provenance": [],
      "collapsed_sections": []
    }
  },
  "cells": [
    {
      "cell_type": "code",
      "metadata": {
        "id": "4mj1-54DBV1v",
        "colab_type": "code",
        "colab": {}
      },
      "source": [
        "import numpy as np\n",
        "import pandas as pd\n",
        "import seaborn as sns\n",
        "import matplotlib.pyplot as plt\n",
        "\n",
        "from sklearn.preprocessing import RobustScaler\n",
        "from imblearn.over_sampling import SMOTE\n",
        "\n",
        "from sklearn.neighbors import KernelDensity\n",
        "from sklearn.linear_model import LogisticRegression\n",
        "from sklearn.ensemble import GradientBoostingClassifier, RandomForestClassifier\n",
        "from xgboost.sklearn import XGBClassifier\n",
        "\n",
        "from sklearn.model_selection import train_test_split, GridSearchCV, cross_val_score\n",
        "from sklearn.pipeline import Pipeline\n",
        "from sklearn.metrics import roc_auc_score, make_scorer, accuracy_score\n",
        "\n",
        "from datetime import datetime\n",
        "from datetime import timedelta"
      ],
      "execution_count": 0,
      "outputs": []
    },
    {
      "cell_type": "code",
      "metadata": {
        "id": "URMdkLdMBV10",
        "colab_type": "code",
        "colab": {}
      },
      "source": [
        "import pandas as pd\n",
        "import numpy as np\n",
        "import matplotlib as plt\n",
        "master_database=pd.read_csv(\"train_spray_weather_v1.csv\",float_precision='round_trip')\n",
        "master_database['yr_mo']=master_database['year'].astype(str) + '-' + master_database['month'].astype(str)"
      ],
      "execution_count": 0,
      "outputs": []
    },
    {
      "cell_type": "code",
      "metadata": {
        "id": "H_Ob6oatBV12",
        "colab_type": "code",
        "colab": {}
      },
      "source": [
        "model_master_database=master_database\n",
        "model_master_database['min_spary_dist']=model_master_database.iloc[:,15:25].min(axis=1)\n",
        "model_master_database['min_spary_time']=model_master_database.iloc[:,25:35].min(axis=1)"
      ],
      "execution_count": 0,
      "outputs": []
    },
    {
      "cell_type": "code",
      "metadata": {
        "id": "tT8bn_YOBV14",
        "colab_type": "code",
        "colab": {}
      },
      "source": [
        "model_master_database_2=pd.concat([model_master_database.iloc[:,7:11],\n",
        "           model_master_database.iloc[:,13],model_master_database.iloc[:,15:35],\n",
        "           model_master_database.iloc[:,40:48],model_master_database.iloc[:,49:76]],axis=1)"
      ],
      "execution_count": 0,
      "outputs": []
    },
    {
      "cell_type": "code",
      "metadata": {
        "id": "R_7T-YgBBV16",
        "colab_type": "code",
        "colab": {}
      },
      "source": [
        "from datetime import datetime\n",
        "model_master_database_2['Sunrise_Station'] = pd.to_datetime(model_master_database_2['Sunrise_Station'], \n",
        "                                                            format='%H:%M:%S')\n",
        "model_master_database_2['Sunset_Station'] = pd.to_datetime(model_master_database_2['Sunset_Station'], \n",
        "                                                            format='%H:%M:%S')\n",
        "model_master_database_2['length_of_day']=(model_master_database_2['Sunset_Station'] - model_master_database_2['Sunrise_Station']).dt.total_seconds()\n",
        "\n",
        "model_master_database_2['length_of_day']=model_master_database_2['length_of_day'].astype(int)\n",
        "model_master_database_2=model_master_database_2.drop(['Sunrise_Station', 'Sunset_Station'], axis=1) "
      ],
      "execution_count": 0,
      "outputs": []
    },
    {
      "cell_type": "code",
      "metadata": {
        "id": "kVfYRKGFBV17",
        "colab_type": "code",
        "colab": {}
      },
      "source": [
        "columns_high_corr = abs(model_master_database_2.corr()[\"WnvPresent\"]).sort_values(ascending=False).round(3).index[2:12]"
      ],
      "execution_count": 0,
      "outputs": []
    },
    {
      "cell_type": "code",
      "metadata": {
        "id": "galpFw6dBV19",
        "colab_type": "code",
        "outputId": "2c01558f-9a53-4da8-f1ca-8deffe8648c9",
        "colab": {
          "base_uri": "https://localhost:8080/",
          "height": 34
        }
      },
      "source": [
        "training_features = model_master_database_2[columns_high_corr]\n",
        "training_target = model_master_database_2[\"WnvPresent\"]\n",
        "training_features.shape"
      ],
      "execution_count": 0,
      "outputs": [
        {
          "output_type": "execute_result",
          "data": {
            "text/plain": [
              "(8610, 10)"
            ]
          },
          "metadata": {
            "tags": []
          },
          "execution_count": 10
        }
      ]
    },
    {
      "cell_type": "code",
      "metadata": {
        "id": "H13l4WDMBV1_",
        "colab_type": "code",
        "colab": {}
      },
      "source": [
        "from sklearn.model_selection import train_test_split\n",
        "x_train, x_test, y_train, y_test = train_test_split(training_features, training_target,test_size = .2,\n",
        "                                                    random_state=11, shuffle = True)"
      ],
      "execution_count": 0,
      "outputs": []
    },
    {
      "cell_type": "code",
      "metadata": {
        "id": "1OzjhKlMBV2B",
        "colab_type": "code",
        "outputId": "600d0d54-47c8-4d92-f19e-eb3de3718405",
        "colab": {
          "base_uri": "https://localhost:8080/",
          "height": 68
        }
      },
      "source": [
        "model_master_database_2[\"WnvPresent\"].value_counts()"
      ],
      "execution_count": 0,
      "outputs": [
        {
          "output_type": "execute_result",
          "data": {
            "text/plain": [
              "0    8153\n",
              "1     457\n",
              "Name: WnvPresent, dtype: int64"
            ]
          },
          "metadata": {
            "tags": []
          },
          "execution_count": 12
        }
      ]
    },
    {
      "cell_type": "code",
      "metadata": {
        "id": "dLcbN050BV2D",
        "colab_type": "code",
        "colab": {}
      },
      "source": [
        "from imblearn.over_sampling import SMOTE\n",
        "sm = SMOTE(random_state=12, ratio = 1.0)\n",
        "x_train_mod, y_train_mod = sm.fit_sample(x_train, y_train)\n",
        "x_test_mod, y_test_mod = sm.fit_sample(x_test, y_test)"
      ],
      "execution_count": 0,
      "outputs": []
    },
    {
      "cell_type": "code",
      "metadata": {
        "id": "6zYlOchPBV2F",
        "colab_type": "code",
        "colab": {}
      },
      "source": [
        "x_train_mod_pd = pd.DataFrame(x_train_mod)\n",
        "x_train_mod_pd.columns = x_train.columns\n",
        "y_train_mod_pd = pd.Series(y_train_mod)"
      ],
      "execution_count": 0,
      "outputs": []
    },
    {
      "cell_type": "code",
      "metadata": {
        "id": "Vhy-FyCxBV2G",
        "colab_type": "code",
        "outputId": "ee117fa4-c373-437c-e672-b1dcdb75fb1a",
        "colab": {
          "base_uri": "https://localhost:8080/",
          "height": 119
        }
      },
      "source": [
        "from sklearn.linear_model import LogisticRegression\n",
        "lg = LogisticRegression()\n",
        "\n",
        "print(\"Cross validation on over sampled train data:\\n\",cross_val_score(lg, x_train_mod,y_train_mod,n_jobs=-1, cv = 10).round(3),\"\\n\")\n",
        "\n",
        "print(\"Cross validation on test data: \\n\", cross_val_score(lg, x_test,y_test,n_jobs=-1, cv = 10).round(3), \"\\n\")"
      ],
      "execution_count": 0,
      "outputs": [
        {
          "output_type": "stream",
          "text": [
            "Cross validation on over sampled train data:\n",
            " [0.639 0.638 0.655 0.623 0.641 0.642 0.644 0.651 0.658 0.643] \n",
            "\n",
            "Cross validation on test data: \n",
            " [0.948 0.948 0.948 0.953 0.953 0.953 0.953 0.953 0.953 0.953] \n",
            "\n"
          ],
          "name": "stdout"
        }
      ]
    },
    {
      "cell_type": "markdown",
      "metadata": {
        "id": "tA0gX87VFpQi",
        "colab_type": "text"
      },
      "source": [
        "**Logistic Regression**"
      ]
    },
    {
      "cell_type": "code",
      "metadata": {
        "id": "omMWL3IjBV2I",
        "colab_type": "code",
        "outputId": "4d87803d-1685-425c-f7f4-5a2bb5c405a9",
        "colab": {
          "base_uri": "https://localhost:8080/",
          "height": 105
        }
      },
      "source": [
        "lg.fit(x_train_mod, y_train_mod)\n",
        "predicted = lg.predict(x_train_mod)\n",
        "print(\"R2 score on train dataset: \", lg.score(x_train_mod, y_train_mod).round(3))\n",
        "print(\"ROC score on train dataset: \", roc_auc_score(y_train_mod, predicted).round(3))"
      ],
      "execution_count": 0,
      "outputs": [
        {
          "output_type": "stream",
          "text": [
            "R2 score on train dataset:  0.644\n",
            "ROC score on train dataset:  0.644\n"
          ],
          "name": "stdout"
        },
        {
          "output_type": "stream",
          "text": [
            "/usr/local/lib/python3.6/dist-packages/sklearn/linear_model/logistic.py:432: FutureWarning: Default solver will be changed to 'lbfgs' in 0.22. Specify a solver to silence this warning.\n",
            "  FutureWarning)\n"
          ],
          "name": "stderr"
        }
      ]
    },
    {
      "cell_type": "code",
      "metadata": {
        "id": "ck7peI2LE8Mz",
        "colab_type": "code",
        "outputId": "c1fafb7f-7e8b-4316-ee56-de94e53be919",
        "colab": {
          "base_uri": "https://localhost:8080/",
          "height": 51
        }
      },
      "source": [
        "print(\"R2 score on test dataset: \", lg.score(x_test, y_test).round(3))\n",
        "predicted = lg.predict(x_test)\n",
        "print(\"ROC score on test dataset: \",roc_auc_score(y_test, predicted).round(3))"
      ],
      "execution_count": 0,
      "outputs": [
        {
          "output_type": "stream",
          "text": [
            "R2 score on test dataset:  0.596\n",
            "ROC score on test dataset:  0.656\n"
          ],
          "name": "stdout"
        }
      ]
    },
    {
      "cell_type": "code",
      "metadata": {
        "id": "Cq0l5Ze8sDlV",
        "colab_type": "code",
        "outputId": "34b9354d-4c4a-48d7-9d5d-4aa9a9dc0ee7",
        "colab": {
          "base_uri": "https://localhost:8080/",
          "height": 51
        }
      },
      "source": [
        "from sklearn.metrics import confusion_matrix\n",
        "confusion_matrix(y_test, predicted)"
      ],
      "execution_count": 0,
      "outputs": [
        {
          "output_type": "execute_result",
          "data": {
            "text/plain": [
              "array([[966, 673],\n",
              "       [ 23,  60]])"
            ]
          },
          "metadata": {
            "tags": []
          },
          "execution_count": 77
        }
      ]
    },
    {
      "cell_type": "code",
      "metadata": {
        "id": "Lymxvd1ZsJxc",
        "colab_type": "code",
        "outputId": "6d319783-c343-4ce6-9464-d300cc837f64",
        "colab": {
          "base_uri": "https://localhost:8080/",
          "height": 295
        }
      },
      "source": [
        "from sklearn import metrics\n",
        "# take the second column because the classifier outputs scores for\n",
        "# the 0 class as well\n",
        "preds = predicted\n",
        "\n",
        "# fpr means false-positive-rate\n",
        "# tpr means true-positive-rate\n",
        "fpr, tpr, _ = metrics.roc_curve(y_test, preds)\n",
        "\n",
        "auc_score = metrics.auc(fpr, tpr)\n",
        "\n",
        "# clear current figure\n",
        "plt.clf()\n",
        "\n",
        "plt.title('ROC Curve')\n",
        "plt.plot(fpr, tpr, label='AUC = {:.2f}'.format(auc_score))\n",
        "\n",
        "\n",
        "plt.plot([0,1],[0,1],'r--')\n",
        "\n",
        "plt.xlim([-0.1,1.1])\n",
        "plt.ylim([-0.1,1.1])\n",
        "plt.ylabel('True Positive Rate')\n",
        "plt.xlabel('False Positive Rate')\n",
        "\n",
        "plt.legend(loc='lower right')\n",
        "plt.show()"
      ],
      "execution_count": 0,
      "outputs": [
        {
          "output_type": "display_data",
          "data": {
            "image/png": "[encoded data removed]",
            "text/plain": [
              "<Figure size 432x288 with 1 Axes>"
            ]
          },
          "metadata": {
            "tags": []
          }
        }
      ]
    },
    {
      "cell_type": "markdown",
      "metadata": {
        "id": "k_2X761jFj5Z",
        "colab_type": "text"
      },
      "source": [
        "**Gradient Boost classifier**"
      ]
    },
    {
      "cell_type": "code",
      "metadata": {
        "id": "EixJPIc5FvXf",
        "colab_type": "code",
        "outputId": "277fdc05-7745-437a-fb10-d1be3fab694c",
        "colab": {
          "base_uri": "https://localhost:8080/",
          "height": 119
        }
      },
      "source": [
        "gbc = GradientBoostingClassifier()\n",
        "print(\"Cross validation on train dataset: \\n\", cross_val_score(gbc, x_train_mod,y_train_mod, n_jobs=-1, cv = 10).round(3), \"\\n\")\n",
        "print(\"Cross validation on test dataset: \\n\", cross_val_score(gbc, x_test,y_test, n_jobs=-1, cv = 10).round(3), \"\\n\")"
      ],
      "execution_count": 0,
      "outputs": [
        {
          "output_type": "stream",
          "text": [
            "Cross validation on train dataset: \n",
            " [0.79  0.823 0.847 0.831 0.839 0.845 0.855 0.839 0.843 0.856] \n",
            "\n",
            "Cross validation on test dataset: \n",
            " [0.936 0.936 0.942 0.948 0.948 0.936 0.953 0.953 0.953 0.953] \n",
            "\n"
          ],
          "name": "stdout"
        }
      ]
    },
    {
      "cell_type": "code",
      "metadata": {
        "id": "OxurezKMFy_-",
        "colab_type": "code",
        "outputId": "20940c10-71aa-426d-d091-c4053e500c01",
        "colab": {
          "base_uri": "https://localhost:8080/",
          "height": 51
        }
      },
      "source": [
        "gbc.fit(x_train_mod, y_train_mod)\n",
        "predicted = gbc.predict(x_train_mod)\n",
        "print(\"R2 score on train dataset: \", gbc.score(x_train_mod, y_train_mod).round(3))\n",
        "print(\"ROC score on train dataset: \", roc_auc_score(y_train_mod ,predicted).round(3))"
      ],
      "execution_count": 0,
      "outputs": [
        {
          "output_type": "stream",
          "text": [
            "R2 score on train dataset:  0.844\n",
            "ROC score on train dataset:  0.844\n"
          ],
          "name": "stdout"
        }
      ]
    },
    {
      "cell_type": "code",
      "metadata": {
        "id": "wWK9ve4YF28K",
        "colab_type": "code",
        "outputId": "f2289174-add8-4aa0-9810-a4ec91b29c34",
        "colab": {
          "base_uri": "https://localhost:8080/",
          "height": 51
        }
      },
      "source": [
        "predicted = gbc.predict(x_test)\n",
        "print(\"R2 score on test dataset: \", gbc.score(x_test, y_test).round(3))\n",
        "print(\"ROC score on test dataset: \", roc_auc_score(y_test, predicted).round(3))"
      ],
      "execution_count": 0,
      "outputs": [
        {
          "output_type": "stream",
          "text": [
            "R2 score on test dataset:  0.77\n",
            "ROC score on test dataset:  0.708\n"
          ],
          "name": "stdout"
        }
      ]
    },
    {
      "cell_type": "code",
      "metadata": {
        "id": "fvcUzffyF7mC",
        "colab_type": "code",
        "colab": {}
      },
      "source": [
        "score_function = make_scorer(roc_auc_score)\n",
        "params_gbc = {\n",
        "    \"gbc__learning_rate\"  : [1],\n",
        "    \"gbc__n_estimators\"     : [10, 100, 300],\n",
        "    \"gbc__max_depth\"  : [3, 10],\n",
        "    \"gbc__random_state\"    : [42]\n",
        "             }\n",
        "steps_gbc = [('gbc', GradientBoostingClassifier())]\n",
        "pipe_gbc = Pipeline(steps = steps_gbc)\n",
        "gs_gbc = GridSearchCV(pipe_gbc, param_grid = params_gbc , scoring = score_function, verbose=1)"
      ],
      "execution_count": 0,
      "outputs": []
    },
    {
      "cell_type": "code",
      "metadata": {
        "id": "yeSO3yduGDAn",
        "colab_type": "code",
        "outputId": "71bcf33d-6916-4b1e-d6d7-cf1e7b20e977",
        "colab": {
          "base_uri": "https://localhost:8080/",
          "height": 598
        }
      },
      "source": [
        "gs_gbc.fit(x_train_mod, y_train_mod)"
      ],
      "execution_count": 0,
      "outputs": [
        {
          "output_type": "stream",
          "text": [
            "/usr/local/lib/python3.6/dist-packages/sklearn/model_selection/_split.py:1978: FutureWarning: The default value of cv will change from 3 to 5 in version 0.22. Specify it explicitly to silence this warning.\n",
            "  warnings.warn(CV_WARNING, FutureWarning)\n",
            "[Parallel(n_jobs=1)]: Using backend SequentialBackend with 1 concurrent workers.\n"
          ],
          "name": "stderr"
        },
        {
          "output_type": "stream",
          "text": [
            "Fitting 3 folds for each of 6 candidates, totalling 18 fits\n"
          ],
          "name": "stdout"
        },
        {
          "output_type": "stream",
          "text": [
            "[Parallel(n_jobs=1)]: Done  18 out of  18 | elapsed:   45.7s finished\n"
          ],
          "name": "stderr"
        },
        {
          "output_type": "execute_result",
          "data": {
            "text/plain": [
              "GridSearchCV(cv='warn', error_score='raise-deprecating',\n",
              "             estimator=Pipeline(memory=None,\n",
              "                                steps=[('gbc',\n",
              "                                        GradientBoostingClassifier(criterion='friedman_mse',\n",
              "                                                                   init=None,\n",
              "                                                                   learning_rate=0.1,\n",
              "                                                                   loss='deviance',\n",
              "                                                                   max_depth=3,\n",
              "                                                                   max_features=None,\n",
              "                                                                   max_leaf_nodes=None,\n",
              "                                                                   min_impurity_decrease=0.0,\n",
              "                                                                   min_impurity_split=None,\n",
              "                                                                   min_samples_leaf=1,\n",
              "                                                                   min_samples_split=2,\n",
              "                                                                   min_weight_frac...\n",
              "                                                                   random_state=None,\n",
              "                                                                   subsample=1.0,\n",
              "                                                                   tol=0.0001,\n",
              "                                                                   validation_fraction=0.1,\n",
              "                                                                   verbose=0,\n",
              "                                                                   warm_start=False))],\n",
              "                                verbose=False),\n",
              "             iid='warn', n_jobs=None,\n",
              "             param_grid={'gbc__learning_rate': [1], 'gbc__max_depth': [3, 10],\n",
              "                         'gbc__n_estimators': [10, 100, 300],\n",
              "                         'gbc__random_state': [42]},\n",
              "             pre_dispatch='2*n_jobs', refit=True, return_train_score=False,\n",
              "             scoring=make_scorer(roc_auc_score), verbose=1)"
            ]
          },
          "metadata": {
            "tags": []
          },
          "execution_count": 65
        }
      ]
    },
    {
      "cell_type": "code",
      "metadata": {
        "id": "HpMqb5q-GJZ9",
        "colab_type": "code",
        "outputId": "a4fc54e0-bae4-4459-b066-9cfcd1e12ba3",
        "colab": {
          "base_uri": "https://localhost:8080/",
          "height": 85
        }
      },
      "source": [
        "gs_gbc.best_params_"
      ],
      "execution_count": 0,
      "outputs": [
        {
          "output_type": "execute_result",
          "data": {
            "text/plain": [
              "{'gbc__learning_rate': 1,\n",
              " 'gbc__max_depth': 10,\n",
              " 'gbc__n_estimators': 300,\n",
              " 'gbc__random_state': 42}"
            ]
          },
          "metadata": {
            "tags": []
          },
          "execution_count": 66
        }
      ]
    },
    {
      "cell_type": "code",
      "metadata": {
        "id": "bZsVe3_3GKT5",
        "colab_type": "code",
        "outputId": "34285d30-392d-41eb-94ee-290c4141d8f5",
        "colab": {
          "base_uri": "https://localhost:8080/",
          "height": 51
        }
      },
      "source": [
        "gbc = GradientBoostingClassifier(learning_rate=0.1, n_estimators=100, random_state=42, max_depth=10)\n",
        "gbc.fit(x_train_mod, y_train_mod)\n",
        "predicted = gbc.predict(x_train_mod)\n",
        "print(\"R2 score on train dataset: \", gbc.score(x_train_mod, y_train_mod).round(3))\n",
        "print(\"ROC score on train dataset: \", roc_auc_score(y_train_mod ,predicted).round(3))"
      ],
      "execution_count": 0,
      "outputs": [
        {
          "output_type": "stream",
          "text": [
            "R2 score on train dataset:  0.978\n",
            "ROC score on train dataset:  0.978\n"
          ],
          "name": "stdout"
        }
      ]
    },
    {
      "cell_type": "code",
      "metadata": {
        "id": "wFFeE5TlGrrh",
        "colab_type": "code",
        "outputId": "bb2893ac-2fe4-486a-bf0c-62f12ed3ae8f",
        "colab": {
          "base_uri": "https://localhost:8080/",
          "height": 51
        }
      },
      "source": [
        "\n",
        "predicted = gbc.predict(x_test)\n",
        "print(\"R2 score on test dataset: \", gbc.score(x_test, y_test).round(3))\n",
        "print(\"ROC score on test dataset: \", roc_auc_score(y_test, predicted).round(3))"
      ],
      "execution_count": 0,
      "outputs": [
        {
          "output_type": "stream",
          "text": [
            "R2 score on test dataset:  0.913\n",
            "ROC score on test dataset:  0.594\n"
          ],
          "name": "stdout"
        }
      ]
    },
    {
      "cell_type": "code",
      "metadata": {
        "id": "FLNCYLsurxXH",
        "colab_type": "code",
        "outputId": "35c2b37e-adaf-4b68-8761-8d8a48d78e61",
        "colab": {
          "base_uri": "https://localhost:8080/",
          "height": 51
        }
      },
      "source": [
        "from sklearn.metrics import confusion_matrix\n",
        "confusion_matrix(y_test, predicted)"
      ],
      "execution_count": 0,
      "outputs": [
        {
          "output_type": "execute_result",
          "data": {
            "text/plain": [
              "array([[1552,   87],\n",
              "       [  63,   20]])"
            ]
          },
          "metadata": {
            "tags": []
          },
          "execution_count": 69
        }
      ]
    },
    {
      "cell_type": "code",
      "metadata": {
        "id": "oop9K379gGsD",
        "colab_type": "code",
        "outputId": "9b739a16-7f7c-4af7-cc2d-81b131fb67ea",
        "colab": {
          "base_uri": "https://localhost:8080/",
          "height": 295
        }
      },
      "source": [
        "from sklearn import metrics\n",
        "# take the second column because the classifier outputs scores for\n",
        "# the 0 class as well\n",
        "preds = predicted\n",
        "\n",
        "# fpr means false-positive-rate\n",
        "# tpr means true-positive-rate\n",
        "fpr, tpr, _ = metrics.roc_curve(y_test, preds)\n",
        "\n",
        "auc_score = metrics.auc(fpr, tpr)\n",
        "\n",
        "# clear current figure\n",
        "plt.clf()\n",
        "\n",
        "plt.title('ROC Curve')\n",
        "plt.plot(fpr, tpr, label='AUC = {:.2f}'.format(auc_score))\n",
        "\n",
        "\n",
        "plt.plot([0,1],[0,1],'r--')\n",
        "\n",
        "plt.xlim([-0.1,1.1])\n",
        "plt.ylim([-0.1,1.1])\n",
        "plt.ylabel('True Positive Rate')\n",
        "plt.xlabel('False Positive Rate')\n",
        "\n",
        "plt.legend(loc='lower right')\n",
        "plt.show()"
      ],
      "execution_count": 0,
      "outputs": [
        {
          "output_type": "display_data",
          "data": {
            "image/png": "[encoded data removed]",
            "text/plain": [
              "<Figure size 432x288 with 1 Axes>"
            ]
          },
          "metadata": {
            "tags": []
          }
        }
      ]
    },
    {
      "cell_type": "markdown",
      "metadata": {
        "id": "dSCDOzqqGw9X",
        "colab_type": "text"
      },
      "source": [
        "**Random Forest Classifier**"
      ]
    },
    {
      "cell_type": "code",
      "metadata": {
        "id": "8sY8IHSlGudn",
        "colab_type": "code",
        "outputId": "7627ebf5-02a2-4522-9bbd-bb9cacc6a04d",
        "colab": {
          "base_uri": "https://localhost:8080/",
          "height": 173
        }
      },
      "source": [
        "rfc = RandomForestClassifier()\n",
        "print(\"Cross validation score on train dataset: \", cross_val_score(rfc, x_train_mod,y_train_mod, n_jobs=-1).round(3), \"\\n\")\n",
        "print(\"Cross validation score on test dataset: \", cross_val_score(rfc, x_test,y_test, n_jobs=-1).round(3), \"\\n\")"
      ],
      "execution_count": 0,
      "outputs": [
        {
          "output_type": "stream",
          "text": [
            "/usr/local/lib/python3.6/dist-packages/sklearn/model_selection/_split.py:1978: FutureWarning: The default value of cv will change from 3 to 5 in version 0.22. Specify it explicitly to silence this warning.\n",
            "  warnings.warn(CV_WARNING, FutureWarning)\n"
          ],
          "name": "stderr"
        },
        {
          "output_type": "stream",
          "text": [
            "Cross validation score on train dataset:  [0.886 0.923 0.916] \n",
            "\n"
          ],
          "name": "stdout"
        },
        {
          "output_type": "stream",
          "text": [
            "/usr/local/lib/python3.6/dist-packages/sklearn/model_selection/_split.py:1978: FutureWarning: The default value of cv will change from 3 to 5 in version 0.22. Specify it explicitly to silence this warning.\n",
            "  warnings.warn(CV_WARNING, FutureWarning)\n"
          ],
          "name": "stderr"
        },
        {
          "output_type": "stream",
          "text": [
            "Cross validation score on test dataset:  [0.939 0.941 0.937] \n",
            "\n"
          ],
          "name": "stdout"
        }
      ]
    },
    {
      "cell_type": "code",
      "metadata": {
        "id": "CJ7ko-zKG816",
        "colab_type": "code",
        "outputId": "5b52f944-09e0-4093-e9e7-41851ab72f95",
        "colab": {
          "base_uri": "https://localhost:8080/",
          "height": 105
        }
      },
      "source": [
        "\n",
        "rfc.fit(x_train_mod, y_train_mod)\n",
        "print(\"R2 score on train dataset: \", rfc.score(x_train_mod, y_train_mod).round(3))\n",
        "predicted = rfc.predict(x_train)\n",
        "print(\"ROC score on train dataset: \", roc_auc_score(y_train, predicted).round(3))"
      ],
      "execution_count": 0,
      "outputs": [
        {
          "output_type": "stream",
          "text": [
            "/usr/local/lib/python3.6/dist-packages/sklearn/ensemble/forest.py:245: FutureWarning: The default value of n_estimators will change from 10 in version 0.20 to 100 in 0.22.\n",
            "  \"10 in version 0.20 to 100 in 0.22.\", FutureWarning)\n"
          ],
          "name": "stderr"
        },
        {
          "output_type": "stream",
          "text": [
            "R2 score on train dataset:  0.978\n",
            "ROC score on train dataset:  0.805\n"
          ],
          "name": "stdout"
        }
      ]
    },
    {
      "cell_type": "code",
      "metadata": {
        "id": "GncgAm35G_40",
        "colab_type": "code",
        "outputId": "3eb2a61a-ddda-477b-d8d4-51d8f6292ec3",
        "colab": {
          "base_uri": "https://localhost:8080/",
          "height": 51
        }
      },
      "source": [
        "print(\"R2 score on test dataset: \", rfc.score(x_test, y_test).round(3))\n",
        "predicted = rfc.predict(x_test)\n",
        "print(\"ROC score on test dataset: \", roc_auc_score(y_test, predicted).round(3))"
      ],
      "execution_count": 0,
      "outputs": [
        {
          "output_type": "stream",
          "text": [
            "R2 score on test dataset:  0.902\n",
            "ROC score on test dataset:  0.594\n"
          ],
          "name": "stdout"
        }
      ]
    },
    {
      "cell_type": "code",
      "metadata": {
        "id": "IVecPrn1r8Tr",
        "colab_type": "code",
        "outputId": "cd6e84a3-ae4c-44c9-815a-d1b12f6441cd",
        "colab": {
          "base_uri": "https://localhost:8080/",
          "height": 51
        }
      },
      "source": [
        "from sklearn.metrics import confusion_matrix\n",
        "confusion_matrix(y_test, predicted)"
      ],
      "execution_count": 0,
      "outputs": [
        {
          "output_type": "execute_result",
          "data": {
            "text/plain": [
              "array([[1532,  107],\n",
              "       [  62,   21]])"
            ]
          },
          "metadata": {
            "tags": []
          },
          "execution_count": 74
        }
      ]
    },
    {
      "cell_type": "code",
      "metadata": {
        "id": "9lYfxTajpjvr",
        "colab_type": "code",
        "outputId": "879b9bb1-fa35-4322-f98c-c41992a4e303",
        "colab": {
          "base_uri": "https://localhost:8080/",
          "height": 295
        }
      },
      "source": [
        "from sklearn import metrics\n",
        "# take the second column because the classifier outputs scores for\n",
        "# the 0 class as well\n",
        "preds = predicted\n",
        "\n",
        "# fpr means false-positive-rate\n",
        "# tpr means true-positive-rate\n",
        "fpr, tpr, _ = metrics.roc_curve(y_test, preds)\n",
        "\n",
        "auc_score = metrics.auc(fpr, tpr)\n",
        "\n",
        "# clear current figure\n",
        "plt.clf()\n",
        "\n",
        "plt.title('ROC Curve')\n",
        "plt.plot(fpr, tpr, label='AUC = {:.2f}'.format(auc_score))\n",
        "\n",
        "\n",
        "plt.plot([0,1],[0,1],'r--')\n",
        "\n",
        "plt.xlim([-0.1,1.1])\n",
        "plt.ylim([-0.1,1.1])\n",
        "plt.ylabel('True Positive Rate')\n",
        "plt.xlabel('False Positive Rate')\n",
        "\n",
        "plt.legend(loc='lower right')\n",
        "plt.show()"
      ],
      "execution_count": 0,
      "outputs": [
        {
          "output_type": "display_data",
          "data": {
            "image/png": "[encoded data removed]",
            "text/plain": [
              "<Figure size 432x288 with 1 Axes>"
            ]
          },
          "metadata": {
            "tags": []
          }
        }
      ]
    },
    {
      "cell_type": "markdown",
      "metadata": {
        "id": "H6nTEEOOHMnH",
        "colab_type": "text"
      },
      "source": [
        "**XGBOOST model**"
      ]
    },
    {
      "cell_type": "code",
      "metadata": {
        "id": "1RxzHQC1HF4Q",
        "colab_type": "code",
        "outputId": "221948ef-88fe-48b5-c403-996e9e7f1aeb",
        "colab": {
          "base_uri": "https://localhost:8080/",
          "height": 136
        }
      },
      "source": [
        "xgb = XGBClassifier(n_estimators = 500)\n",
        "xgb.fit(x_train_mod_pd, y_train_mod_pd)"
      ],
      "execution_count": 0,
      "outputs": [
        {
          "output_type": "execute_result",
          "data": {
            "text/plain": [
              "XGBClassifier(base_score=0.5, booster='gbtree', colsample_bylevel=1,\n",
              "              colsample_bynode=1, colsample_bytree=1, gamma=0,\n",
              "              learning_rate=0.1, max_delta_step=0, max_depth=3,\n",
              "              min_child_weight=1, missing=None, n_estimators=500, n_jobs=1,\n",
              "              nthread=None, objective='binary:logistic', random_state=0,\n",
              "              reg_alpha=0, reg_lambda=1, scale_pos_weight=1, seed=None,\n",
              "              silent=None, subsample=1, verbosity=1)"
            ]
          },
          "metadata": {
            "tags": []
          },
          "execution_count": 53
        }
      ]
    },
    {
      "cell_type": "code",
      "metadata": {
        "id": "-NcoQGrWHVn3",
        "colab_type": "code",
        "outputId": "2dec2504-13ca-4d07-f7f1-05a099c47b90",
        "colab": {
          "base_uri": "https://localhost:8080/",
          "height": 51
        }
      },
      "source": [
        "print(\"R2 score on train dataset: \", xgb.score(x_train_mod_pd, y_train_mod_pd).round(3))\n",
        "predicted = xgb.predict(x_train_mod_pd)\n",
        "print(\"ROC score on train dataset: \", roc_auc_score(y_train_mod_pd, predicted).round(3))"
      ],
      "execution_count": 0,
      "outputs": [
        {
          "output_type": "stream",
          "text": [
            "R2 score on train dataset:  0.931\n",
            "ROC score on train dataset:  0.931\n"
          ],
          "name": "stdout"
        }
      ]
    },
    {
      "cell_type": "code",
      "metadata": {
        "id": "CnvSdNtcHYkX",
        "colab_type": "code",
        "outputId": "1e526353-307c-4a59-8160-830231c06b08",
        "colab": {
          "base_uri": "https://localhost:8080/",
          "height": 51
        }
      },
      "source": [
        "\n",
        "print(\"R2 score on test dataset: \", xgb.score(x_test, y_test).round(3))\n",
        "predicted = xgb.predict(x_test)\n",
        "print(\"ROC score on test dataset: \", roc_auc_score(y_test, predicted).round(3))"
      ],
      "execution_count": 0,
      "outputs": [
        {
          "output_type": "stream",
          "text": [
            "R2 score on test dataset:  0.878\n",
            "ROC score on test dataset:  0.65\n"
          ],
          "name": "stdout"
        }
      ]
    },
    {
      "cell_type": "code",
      "metadata": {
        "id": "LgbpdTHjHa-t",
        "colab_type": "code",
        "outputId": "a73c0098-2b9c-435d-bd32-527f0103fe15",
        "colab": {
          "base_uri": "https://localhost:8080/",
          "height": 295
        }
      },
      "source": [
        "from sklearn import metrics\n",
        "# take the second column because the classifier outputs scores for\n",
        "# the 0 class as well\n",
        "preds = predicted\n",
        "\n",
        "# fpr means false-positive-rate\n",
        "# tpr means true-positive-rate\n",
        "fpr, tpr, _ = metrics.roc_curve(y_test, preds)\n",
        "\n",
        "auc_score = metrics.auc(fpr, tpr)\n",
        "\n",
        "# clear current figure\n",
        "plt.clf()\n",
        "\n",
        "plt.title('ROC Curve')\n",
        "plt.plot(fpr, tpr, label='AUC = {:.2f}'.format(auc_score))\n",
        "\n",
        "\n",
        "plt.plot([0,1],[0,1],'r--')\n",
        "\n",
        "plt.xlim([-0.1,1.1])\n",
        "plt.ylim([-0.1,1.1])\n",
        "plt.ylabel('True Positive Rate')\n",
        "plt.xlabel('False Positive Rate')\n",
        "\n",
        "plt.legend(loc='lower right')\n",
        "plt.show()"
      ],
      "execution_count": 0,
      "outputs": [
        {
          "output_type": "display_data",
          "data": {
            "image/png": "[encoded data removed]",
            "text/plain": [
              "<Figure size 432x288 with 1 Axes>"
            ]
          },
          "metadata": {
            "tags": []
          }
        }
      ]
    },
    {
      "cell_type": "code",
      "metadata": {
        "id": "WVZte2U-qvqU",
        "colab_type": "code",
        "outputId": "2195be7a-5857-4eec-f8aa-f6b7c4b91a99",
        "colab": {
          "base_uri": "https://localhost:8080/",
          "height": 51
        }
      },
      "source": [
        "from sklearn.metrics import confusion_matrix\n",
        "confusion_matrix(y_test, predicted)"
      ],
      "execution_count": 0,
      "outputs": [
        {
          "output_type": "execute_result",
          "data": {
            "text/plain": [
              "array([[1479,  160],\n",
              "       [  50,   33]])"
            ]
          },
          "metadata": {
            "tags": []
          },
          "execution_count": 58
        }
      ]
    }
  ]
}